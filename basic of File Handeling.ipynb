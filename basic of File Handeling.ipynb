{
 "cells": [
  {
   "cell_type": "markdown",
   "metadata": {},
   "source": [
    "# File Handling"
   ]
  },
  {
   "cell_type": "markdown",
   "metadata": {},
   "source": [
    "## 1. Try & Except\n",
    "\n",
    "## 2. Try ,except, except etc.\n",
    "\n",
    "## 3. Try except , except & else\n",
    "\n",
    "## 4. Try & Finally\n",
    "\n",
    "## 5. Try, Except & Finally\n",
    "\n",
    "*******************************************************************************************************************"
   ]
  },
  {
   "cell_type": "markdown",
   "metadata": {},
   "source": [
    "# Python Built-in Exceptions\n"
   ]
  },
  {
   "cell_type": "markdown",
   "metadata": {},
   "source": [
    "Exception\t-------------------------------------------------->         Description\n",
    "********************************************************************************************************\n",
    "\n",
    "ArithmeticError--------------------------->\tRaised when an error occurs in numeric calculations\n",
    "\n",
    "AssertionError\t--------------------------> Raised when an assert statement fails\n",
    "\n",
    "AttributeError---------------------------->\tRaised when attribute reference or assignment fails\n",
    "\n",
    "Exception-------------------------------->\tBase class for all exceptions\n",
    "\n",
    "EOFError ------------------------------->\tRaised when the input() method hits an \"end of file\" condition (EOF)\n",
    "\n",
    "FloatingPointError---------------------->\tRaised when a floating point calculation fails\n",
    "\n",
    "GeneratorExit-------------------------->\tRaised when a generator is closed (with the close() method)\n",
    "\n",
    "ImportError---------------------------->\tRaised when an imported module does not exist\n",
    "\n",
    "IndentationError----------------------->\tRaised when indendation is not correct\n",
    "\n",
    "IndexError----------------------------->\tRaised when an index of a sequence does not exist\n",
    "\n",
    "KeyError------------------------------->\tRaised when a key does not exist in a dictionary\n",
    "\n",
    "KeyboardInterrupt----------------------->\tRaised when the user presses Ctrl+c, Ctrl+z or Delete\n",
    "\n",
    "LookupError ---------------------------->\tRaised when errors raised cant be found\n",
    "\n",
    "MemoryError----------------------------->\tRaised when a program runs out of memory\n",
    "\n",
    "NameError\t----------------------------->  Raised when a variable does not exist\n",
    "\n",
    "NotImplementedError---------------------->\tRaised when an abstract method requires an inherited class to override the method\n",
    "\n",
    "OSError\t--------------------------------->  Raised when a system related operation causes an error\n",
    "\n",
    "OverflowError---------------------------> \tRaised when the result of a numeric calculation is too large\n",
    "\n",
    "ReferenceError------------------------->\tRaised when a weak reference object does not exist\n",
    "\n",
    "RuntimeError--------------------------->\tRaised when an error occurs that do not belong to any specific expections\n",
    "\n",
    "StopIteration--------------------------->\tRaised when the next() method of an iterator has no further values\n",
    "\n",
    "SyntaxError------------------------------>\tRaised when a syntax error occurs\n",
    "\n",
    "TabError--------------------------------->\tRaised when indentation consists of tabs or spaces\n",
    "\n",
    "SystemError------------------------------>\tRaised when a system error occurs\n",
    "\n",
    "SystemExit------------------------------->\tRaised when the sys.exit() function is called\n",
    "\n",
    "TypeError------------------------------->\tRaised when two different types are combined\n",
    "\n",
    "UnboundLocalError------------------------>\tRaised when a local variable is referenced before assignment\n",
    "\n",
    "UnicodeError----------------------------->\tRaised when a unicode problem occurs\n",
    "\n",
    "UnicodeEncodeError------------------------>\tRaised when a unicode encoding problem occurs\n",
    "\n",
    "UnicodeDecodeError------------------------>\tRaised when a unicode decoding problem occurs\n",
    "\n",
    "UnicodeTranslateError-------------------->\tRaised when a unicode translation problem occurs\n",
    "\n",
    "ValueError------------------------------>\tRaised when there is a wrong value in a specified data type\n",
    "\n",
    "ZeroDivisionError----------------------->\tRaised when the second operator in a division is zero\n"
   ]
  },
  {
   "cell_type": "markdown",
   "metadata": {},
   "source": [
    "# Multiple Except Function"
   ]
  },
  {
   "cell_type": "code",
   "execution_count": 8,
   "metadata": {},
   "outputs": [
    {
     "name": "stdout",
     "output_type": "stream",
     "text": [
      "Enter the first number = \n",
      "please press carefully\n",
      "invalid literal for int() with base 10: ''\n"
     ]
    }
   ],
   "source": [
    "try: \n",
    "    a=int(input(\"Enter the first number = \"))\n",
    "    b=int(input(\"Enter the second number = \"))\n",
    "\n",
    "    print(a/b)\n",
    "    \n",
    "except ZeroDivisionError as Ze:\n",
    "    \n",
    "    print(\"please check the number\")\n",
    "    print(Ze)\n",
    "    \n",
    "except TypeError as te:\n",
    "    \n",
    "    print(\"please check number as string\")\n",
    "    print(te)\n",
    "    \n",
    "except ValueError as ve:\n",
    "    print(\"please press carefully\")\n",
    "    print(ve)"
   ]
  },
  {
   "cell_type": "code",
   "execution_count": 9,
   "metadata": {},
   "outputs": [
    {
     "name": "stdout",
     "output_type": "stream",
     "text": [
      "please check your file path\n",
      "[Errno 2] No such file or directory: 'textfilev3'\n"
     ]
    }
   ],
   "source": [
    "try:\n",
    "    f=open('textfilev3', 'r')\n",
    "    f.read()\n",
    "except FileNotFoundError as fe:\n",
    "    print(\"please check your file path\")\n",
    "    print(fe)\n",
    "except I0Error as io:\n",
    "    print(\"Please check file location Name\")\n",
    "    print(io)"
   ]
  },
  {
   "cell_type": "code",
   "execution_count": 10,
   "metadata": {},
   "outputs": [
    {
     "name": "stdout",
     "output_type": "stream",
     "text": [
      "File doesnot support path\n",
      "[Errno 2] No such file or directory: 'textfilev3'\n"
     ]
    }
   ],
   "source": [
    "try:\n",
    "    f=open('textfilev3')\n",
    "    f.read()\n",
    "    f.write(\"Hello World\")\n",
    "    \n",
    "except FileNotFoundError as fe:\n",
    "    \n",
    "    print(\"File doesnot support path\")\n",
    "    print(fe)"
   ]
  },
  {
   "cell_type": "code",
   "execution_count": 11,
   "metadata": {},
   "outputs": [
    {
     "name": "stdout",
     "output_type": "stream",
     "text": [
      "Inside Error\n"
     ]
    }
   ],
   "source": [
    "try:\n",
    "    f=open('textfilev3')\n",
    "    f.read()\n",
    "    f.write(\"Hello World\")\n",
    "except:\n",
    "    print(\"Inside Error\")"
   ]
  },
  {
   "cell_type": "code",
   "execution_count": 12,
   "metadata": {},
   "outputs": [
    {
     "name": "stdout",
     "output_type": "stream",
     "text": [
      "Enter the first number = \n",
      "Exception Error\n"
     ]
    }
   ],
   "source": [
    "try: \n",
    "    a=int(input(\"Enter the first number = \"))\n",
    "    b=int(input(\"Enter the second number = \"))\n",
    "\n",
    "    print(a/b)\n",
    "    \n",
    "except:\n",
    "    print(\"Exception Error\")"
   ]
  },
  {
   "cell_type": "code",
   "execution_count": 13,
   "metadata": {},
   "outputs": [
    {
     "name": "stdout",
     "output_type": "stream",
     "text": [
      "Enter the first number = 4\n",
      "Enter the second number = 5\n",
      "0.8\n"
     ]
    }
   ],
   "source": [
    "try: \n",
    "    a=int(input(\"Enter the first number = \"))\n",
    "    b=int(input(\"Enter the second number = \"))\n",
    "\n",
    "    print(a/b)\n",
    "    \n",
    "except:\n",
    "    print(\"Exception Error\")"
   ]
  },
  {
   "cell_type": "code",
   "execution_count": 14,
   "metadata": {},
   "outputs": [
    {
     "name": "stdout",
     "output_type": "stream",
     "text": [
      "Inside Error\n"
     ]
    }
   ],
   "source": [
    "try:\n",
    "    f=open('textfilev3', 'r')\n",
    "    f.read()\n",
    "except:\n",
    "    print(\"Inside Error\")"
   ]
  },
  {
   "cell_type": "code",
   "execution_count": 15,
   "metadata": {},
   "outputs": [
    {
     "name": "stdout",
     "output_type": "stream",
     "text": [
      "Inside Error\n"
     ]
    }
   ],
   "source": [
    "try:\n",
    "    f=open('textfilev3', 'r')\n",
    "    f.read()\n",
    "except:\n",
    "    print(\"Inside Error\")\n",
    "\n",
    "else:\n",
    "    print(\"content written succesfully\")\n",
    "    f.close()"
   ]
  },
  {
   "cell_type": "code",
   "execution_count": 20,
   "metadata": {},
   "outputs": [
    {
     "name": "stdout",
     "output_type": "stream",
     "text": [
      "inside the try function\n",
      "successfully\n"
     ]
    }
   ],
   "source": [
    "#if try block is executing and then else will exceute also\n",
    "#if try block is excecuting then except will no exceute and at the same time else will exceute\n",
    "#if try is not executing then only except will exceute not only else will not execute\n",
    "\n",
    "try:\n",
    "    f=open(\"testfilev3\")\n",
    "    f.read()\n",
    "    print(\"inside the try function\")\n",
    "     \n",
    "except IOError:\n",
    "    print(\"could not find file or read data\")\n",
    "    \n",
    "else:\n",
    "    print(\"successfully\")\n",
    "    f.close()"
   ]
  },
  {
   "cell_type": "code",
   "execution_count": 37,
   "metadata": {},
   "outputs": [
    {
     "name": "stdout",
     "output_type": "stream",
     "text": [
      "it is unsupport error\n",
      "[Errno 2] No such file or directory: 'textfilev3'\n"
     ]
    }
   ],
   "source": [
    "try:\n",
    "    f=open('textfilev3','r')\n",
    "    f.write('helloo')\n",
    "except FileNotFoundError as fe:\n",
    "    print(\"it is unsupport error\")\n",
    "    print(fe) \n",
    "except IOError :\n",
    "    print(\"it is name error\")\n",
    "else:\n",
    "    print(\"No Error\")"
   ]
  },
  {
   "cell_type": "code",
   "execution_count": 42,
   "metadata": {},
   "outputs": [
    {
     "name": "stdout",
     "output_type": "stream",
     "text": [
      "It is Name Error :  not writable\n"
     ]
    }
   ],
   "source": [
    "try:\n",
    "    f=open('textfilev2','r')\n",
    "    f.write('helloo')\n",
    "except FileNotFoundError as fe:\n",
    "    print(\"it is unsupport error\")\n",
    "    print(fe) \n",
    "except IOError as io:\n",
    "    print(\"It is Name Error : \",io)\n",
    "else:\n",
    "    print(\"No Error\")"
   ]
  },
  {
   "cell_type": "markdown",
   "metadata": {},
   "source": [
    "# Try and Finally"
   ]
  },
  {
   "cell_type": "code",
   "execution_count": 44,
   "metadata": {},
   "outputs": [
    {
     "name": "stdout",
     "output_type": "stream",
     "text": [
      "Each and Every time finally will Execute\n"
     ]
    }
   ],
   "source": [
    "#every time finally block should be execute each and every time\n",
    "#we cannot have try and else but we have try and finally\n",
    "\n",
    "\n",
    "try:\n",
    "    f=open('testfile','w')\n",
    "    f.write('welcome to my youtube channel')\n",
    "finally:\n",
    "    print(\"Each and Every time finally will Execute\")"
   ]
  },
  {
   "cell_type": "code",
   "execution_count": 47,
   "metadata": {},
   "outputs": [
    {
     "name": "stdout",
     "output_type": "stream",
     "text": [
      "Name Error in function :  name 'w' is not defined\n",
      "\n",
      "\n",
      "Each and Every time finally will Execute\n"
     ]
    }
   ],
   "source": [
    "#if Try function doesnot execute then except is execute in case finally aslo exceute with except function\n",
    "try:\n",
    "    f=open('testfile',w)\n",
    "    f.write('welcome to my youtube channel')\n",
    "except NameError as ne:\n",
    "    \n",
    "    print(\"Name Error in function : \",ne)\n",
    "    print(\"\\n\")\n",
    "    \n",
    "finally:\n",
    "    print(\"Each and Every time finally will Execute\")"
   ]
  },
  {
   "cell_type": "markdown",
   "metadata": {},
   "source": [
    "# Compare Try and Except"
   ]
  },
  {
   "cell_type": "code",
   "execution_count": 56,
   "metadata": {},
   "outputs": [
    {
     "name": "stdout",
     "output_type": "stream",
     "text": [
      "Each and Every time finally will Execute\n"
     ]
    }
   ],
   "source": [
    "try:\n",
    "    f=open('testfile')\n",
    "    f.write('welcome to my youtube channel')\n",
    "\n",
    "    \n",
    "except:\n",
    "    print(\"Each and Every time finally will Execute\")\n",
    "    f.close()"
   ]
  },
  {
   "cell_type": "markdown",
   "metadata": {},
   "source": [
    "# Compare Try, Except & Finally"
   ]
  },
  {
   "cell_type": "code",
   "execution_count": 54,
   "metadata": {},
   "outputs": [
    {
     "name": "stdout",
     "output_type": "stream",
     "text": [
      "Name Error in function : \n",
      "\n",
      "\n",
      "Each and Every time finally will Execute\n"
     ]
    }
   ],
   "source": [
    "try:\n",
    "    f=open('testfile')\n",
    "    f.write('welcome to my youtube channel')\n",
    "    \n",
    "except:\n",
    "    \n",
    "    print(\"Name Error in function : \")\n",
    "    print(\"\\n\")\n",
    "    \n",
    "finally:\n",
    "    print(\"Each and Every time finally will Execute\")\n",
    "    f.close()"
   ]
  },
  {
   "cell_type": "markdown",
   "metadata": {},
   "source": [
    "# Compare Try, Except & else "
   ]
  },
  {
   "cell_type": "code",
   "execution_count": 58,
   "metadata": {},
   "outputs": [
    {
     "name": "stdout",
     "output_type": "stream",
     "text": [
      "Name Error in function : \n",
      "\n",
      "\n"
     ]
    }
   ],
   "source": [
    "try:\n",
    "    f=open('testfile')\n",
    "    f.write('welcome to my youtube channel')\n",
    "    \n",
    "except:\n",
    "    \n",
    "    print(\"Name Error in function : \")\n",
    "    print(\"\\n\")\n",
    "    \n",
    "else:\n",
    "    print(\"Each and Every time finally will Execute\")\n",
    "    f.close()"
   ]
  },
  {
   "cell_type": "markdown",
   "metadata": {},
   "source": [
    "# file Handling using Function"
   ]
  },
  {
   "cell_type": "code",
   "execution_count": 64,
   "metadata": {},
   "outputs": [],
   "source": [
    "def ask():\n",
    "    try:\n",
    "        a=int(input(\"Enter the number : \"))\n",
    "    except:\n",
    "        print(\"please check the number \")\n",
    "        print(\"Write Down correct number\")\n",
    "    else:\n",
    "        print(a)\n",
    "    finally:\n",
    "        print(\"Run Successfully\")\n",
    "    "
   ]
  },
  {
   "cell_type": "code",
   "execution_count": 65,
   "metadata": {},
   "outputs": [
    {
     "name": "stdout",
     "output_type": "stream",
     "text": [
      "Enter the number : 5\n",
      "5\n",
      "Run Successfully\n"
     ]
    }
   ],
   "source": [
    "ask()"
   ]
  },
  {
   "cell_type": "code",
   "execution_count": 66,
   "metadata": {},
   "outputs": [
    {
     "name": "stdout",
     "output_type": "stream",
     "text": [
      "Enter the number : m\n",
      "please check the number \n",
      "Write Down correct number\n",
      "Run Successfully\n"
     ]
    }
   ],
   "source": [
    "ask()"
   ]
  },
  {
   "cell_type": "code",
   "execution_count": 70,
   "metadata": {},
   "outputs": [],
   "source": [
    "def demo():\n",
    "    try:\n",
    "        a=int(input(\"Enter the number : \"))\n",
    "    except:\n",
    "        print(\"please check the number \")\n",
    "        print(\"Write Down correct number\")\n",
    "    else:\n",
    "        print(a)\n",
    "    \n",
    "    finally:\n",
    "        print(\"Run Successfully\")\n",
    "        \n",
    "    \n",
    "    #Note:-\n",
    "          # Finally is always come in last.\n",
    "          # if you are disorder and else execue in last function\n",
    "          # It will come syntax Error\n",
    "          # The order of File Handling is :- Try,Except,else,finally\n",
    "          "
   ]
  },
  {
   "cell_type": "code",
   "execution_count": 71,
   "metadata": {},
   "outputs": [
    {
     "name": "stdout",
     "output_type": "stream",
     "text": [
      "Enter the number : 5\n",
      "5\n",
      "Run Successfully\n"
     ]
    }
   ],
   "source": [
    "demo()"
   ]
  },
  {
   "cell_type": "code",
   "execution_count": null,
   "metadata": {},
   "outputs": [],
   "source": []
  }
 ],
 "metadata": {
  "kernelspec": {
   "display_name": "Python 3",
   "language": "python",
   "name": "python3"
  },
  "language_info": {
   "codemirror_mode": {
    "name": "ipython",
    "version": 3
   },
   "file_extension": ".py",
   "mimetype": "text/x-python",
   "name": "python",
   "nbconvert_exporter": "python",
   "pygments_lexer": "ipython3",
   "version": "3.8.5"
  }
 },
 "nbformat": 4,
 "nbformat_minor": 4
}
